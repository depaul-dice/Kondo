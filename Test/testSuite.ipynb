{
 "cells": [
  {
   "cell_type": "code",
   "execution_count": 1,
   "metadata": {},
   "outputs": [],
   "source": [
    "import os\n",
    "import time"
   ]
  },
  {
   "cell_type": "code",
   "execution_count": 2,
   "metadata": {},
   "outputs": [],
   "source": [
    "results = {}"
   ]
  },
  {
   "cell_type": "code",
   "execution_count": 3,
   "metadata": {},
   "outputs": [],
   "source": [
    "def cleanSystem():\n",
    "    os.chdir(\"/home/rohan/newDev/Kondo/Audit\")\n",
    "    os.system(\"./clean.sh\")"
   ]
  },
  {
   "cell_type": "code",
   "execution_count": 4,
   "metadata": {},
   "outputs": [],
   "source": [
    "def runDataStore():\n",
    "    os.chdir(\"/home/rohan/newDev/Kondo/DataStoreCreate\")\n",
    "    start_time = time.time()\n",
    "    os.system(\"python3 createDataStore.py\")\n",
    "    return((time.time() - start_time))"
   ]
  },
  {
   "cell_type": "code",
   "execution_count": 5,
   "metadata": {},
   "outputs": [],
   "source": [
    "def Audit(cmd):\n",
    "    os.chdir(\"/home/rohan/newDev/Kondo/Test\")\n",
    "    start_time = time.time()\n",
    "    os.system(\"LD_PRELOAD=../Audit/auditLib.so {}\".format(cmd))\n",
    "    return((time.time() - start_time))"
   ]
  },
  {
   "cell_type": "code",
   "execution_count": 6,
   "metadata": {},
   "outputs": [],
   "source": [
    "def Replay(cmd):\n",
    "    os.chdir(\"/home/rohan/newDev/Kondo/Test\")\n",
    "    start_time = time.time()\n",
    "    os.system(\"LD_PRELOAD=../ReExecute/repeatLib.so {}\".format(cmd))\n",
    "    return((time.time() - start_time))"
   ]
  },
  {
   "cell_type": "code",
   "execution_count": 7,
   "metadata": {},
   "outputs": [],
   "source": [
    "def Base(cmd):\n",
    "    os.chdir(\"/home/rohan/newDev/Kondo/Test\")\n",
    "    start_time = time.time()\n",
    "    os.system(\"{}\".format(cmd))\n",
    "    return((time.time() - start_time))"
   ]
  },
  {
   "cell_type": "code",
   "execution_count": 8,
   "metadata": {},
   "outputs": [],
   "source": [
    "def runTest(inp, cmd):\n",
    "    baseTime = Base(cmd)\n",
    "    baseTime = Base(cmd)\n",
    "    cleanSystem()\n",
    "    auditTime = Audit(cmd)\n",
    "    dcreateTime = runDataStore()\n",
    "    replayTime = Replay(cmd)\n",
    "    results[inp] = {\n",
    "        \"base\":baseTime,\n",
    "        \"audit\":auditTime,\n",
    "        \"dscreate\":dcreateTime,\n",
    "        \"replay\":replayTime,\n",
    "    }\n",
    "    print(results)\n",
    "   "
   ]
  },
  {
   "cell_type": "code",
   "execution_count": 9,
   "metadata": {},
   "outputs": [
    {
     "name": "stdout",
     "output_type": "stream",
     "text": [
      "{'WinterLong': {'base': 16.69506287574768, 'audit': 16.841854095458984, 'dscreate': 0.10103249549865723, 'replay': 17.1345157623291}}\n",
      "Compare PFs with rainarea > 500 $km^2$\n",
      "Inside hist1d_dfs: arg_list = ['RAINAREA', 'MEANRAINRATE', 'VOLRAIN', 'RAINAREA_5', 'VOLRAIN_5', 'LON', 'LAT', 'R_ORIENTATION']\n"
     ]
    }
   ],
   "source": [
    "configs = [(\"WinterLong\", \"python3 global_prec.py\"), (\"JiunDar\", \"python3 JiunDar.py\"),(\"Benchmark\", \"./benchmark\")]\n",
    "for i in configs:\n",
    "    runTest(i[0],i[1])\n",
    "print(results)"
   ]
  },
  {
   "cell_type": "code",
   "execution_count": null,
   "metadata": {},
   "outputs": [],
   "source": [
    "print(len(results))"
   ]
  }
 ],
 "metadata": {
  "interpreter": {
   "hash": "31f2aee4e71d21fbe5cf8b01ff0e069b9275f58929596ceb00d14d90e3e16cd6"
  },
  "kernelspec": {
   "display_name": "Python 3.10.6 64-bit",
   "language": "python",
   "name": "python3"
  },
  "language_info": {
   "codemirror_mode": {
    "name": "ipython",
    "version": 3
   },
   "file_extension": ".py",
   "mimetype": "text/x-python",
   "name": "python",
   "nbconvert_exporter": "python",
   "pygments_lexer": "ipython3",
   "version": "3.10.6"
  },
  "orig_nbformat": 4
 },
 "nbformat": 4,
 "nbformat_minor": 2
}
